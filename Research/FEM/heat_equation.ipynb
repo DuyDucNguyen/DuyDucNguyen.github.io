{
 "cells": [
  {
   "cell_type": "code",
   "execution_count": 16,
   "metadata": {},
   "outputs": [
    {
     "ename": "NameError",
     "evalue": "name 'mplot_function' is not defined",
     "output_type": "error",
     "traceback": [
      "\u001b[0;31m---------------------------------------------------------------------------\u001b[0m",
      "\u001b[0;31mNameError\u001b[0m                                 Traceback (most recent call last)",
      "\u001b[0;32m<ipython-input-16-8da50af4c020>\u001b[0m in \u001b[0;36m<module>\u001b[0;34m\u001b[0m\n\u001b[1;32m     70\u001b[0m \u001b[0;34m\u001b[0m\u001b[0m\n\u001b[1;32m     71\u001b[0m     \u001b[0;31m# Plot all quantities (see implementation above)\u001b[0m\u001b[0;34m\u001b[0m\u001b[0;34m\u001b[0m\u001b[0;34m\u001b[0m\u001b[0m\n\u001b[0;32m---> 72\u001b[0;31m     \u001b[0mplot_compact\u001b[0m\u001b[0;34m(\u001b[0m\u001b[0mu\u001b[0m\u001b[0;34m,\u001b[0m \u001b[0mt\u001b[0m\u001b[0;34m,\u001b[0m \u001b[0mstepcounter\u001b[0m\u001b[0;34m)\u001b[0m\u001b[0;34m\u001b[0m\u001b[0;34m\u001b[0m\u001b[0m\n\u001b[0m\u001b[1;32m     73\u001b[0m \u001b[0;34m\u001b[0m\u001b[0m\n\u001b[1;32m     74\u001b[0m     \u001b[0;31m# Shift to next timestep\u001b[0m\u001b[0;34m\u001b[0m\u001b[0;34m\u001b[0m\u001b[0;34m\u001b[0m\u001b[0m\n",
      "\u001b[0;32m<ipython-input-16-8da50af4c020>\u001b[0m in \u001b[0;36mplot_compact\u001b[0;34m(u, t, stepcounter)\u001b[0m\n\u001b[1;32m     12\u001b[0m     \u001b[0;32mif\u001b[0m \u001b[0mstepcounter\u001b[0m \u001b[0;34m%\u001b[0m \u001b[0;36m5\u001b[0m \u001b[0;34m==\u001b[0m \u001b[0;36m0\u001b[0m\u001b[0;34m:\u001b[0m\u001b[0;34m\u001b[0m\u001b[0;34m\u001b[0m\u001b[0m\n\u001b[1;32m     13\u001b[0m         \u001b[0muEuclidnorm\u001b[0m \u001b[0;34m=\u001b[0m \u001b[0mproject\u001b[0m\u001b[0;34m(\u001b[0m\u001b[0mu\u001b[0m\u001b[0;34m,\u001b[0m \u001b[0mV\u001b[0m\u001b[0;34m)\u001b[0m\u001b[0;34m;\u001b[0m \u001b[0max\u001b[0m\u001b[0;34m.\u001b[0m\u001b[0mcla\u001b[0m\u001b[0;34m(\u001b[0m\u001b[0;34m)\u001b[0m\u001b[0;34m;\u001b[0m \u001b[0mfig\u001b[0m \u001b[0;34m=\u001b[0m \u001b[0mplt\u001b[0m\u001b[0;34m.\u001b[0m\u001b[0mgcf\u001b[0m\u001b[0;34m(\u001b[0m\u001b[0;34m)\u001b[0m\u001b[0;34m;\u001b[0m \u001b[0mfig\u001b[0m\u001b[0;34m.\u001b[0m\u001b[0mset_size_inches\u001b[0m\u001b[0;34m(\u001b[0m\u001b[0;36m16\u001b[0m\u001b[0;34m,\u001b[0m \u001b[0;36m6.5\u001b[0m\u001b[0;34m)\u001b[0m\u001b[0;34m\u001b[0m\u001b[0;34m\u001b[0m\u001b[0m\n\u001b[0;32m---> 14\u001b[0;31m         \u001b[0mplt\u001b[0m\u001b[0;34m.\u001b[0m\u001b[0msubplot\u001b[0m\u001b[0;34m(\u001b[0m\u001b[0;36m1\u001b[0m\u001b[0;34m,\u001b[0m \u001b[0;36m2\u001b[0m\u001b[0;34m,\u001b[0m \u001b[0;36m1\u001b[0m\u001b[0;34m)\u001b[0m\u001b[0;34m;\u001b[0m \u001b[0mmplot_function\u001b[0m\u001b[0;34m(\u001b[0m\u001b[0muEuclidnorm\u001b[0m\u001b[0;34m)\u001b[0m\u001b[0;34m;\u001b[0m \u001b[0mplt\u001b[0m\u001b[0;34m.\u001b[0m\u001b[0mtitle\u001b[0m\u001b[0;34m(\u001b[0m\u001b[0;34m\"Heat\"\u001b[0m\u001b[0;34m)\u001b[0m \u001b[0;31m# Plot norm of velocity\u001b[0m\u001b[0;34m\u001b[0m\u001b[0;34m\u001b[0m\u001b[0m\n\u001b[0m\u001b[1;32m     15\u001b[0m         \u001b[0;32mif\u001b[0m \u001b[0mt\u001b[0m \u001b[0;34m==\u001b[0m \u001b[0;36m0.\u001b[0m\u001b[0;34m:\u001b[0m \u001b[0mplt\u001b[0m\u001b[0;34m.\u001b[0m\u001b[0mcolorbar\u001b[0m\u001b[0;34m(\u001b[0m\u001b[0;34m)\u001b[0m\u001b[0;34m;\u001b[0m \u001b[0mplt\u001b[0m\u001b[0;34m.\u001b[0m\u001b[0maxis\u001b[0m\u001b[0;34m(\u001b[0m\u001b[0mG\u001b[0m\u001b[0;34m)\u001b[0m\u001b[0;34m\u001b[0m\u001b[0;34m\u001b[0m\u001b[0m\n\u001b[1;32m     16\u001b[0m         \u001b[0mplt\u001b[0m\u001b[0;34m.\u001b[0m\u001b[0msubplot\u001b[0m\u001b[0;34m(\u001b[0m\u001b[0;36m1\u001b[0m\u001b[0;34m,\u001b[0m \u001b[0;36m2\u001b[0m\u001b[0;34m,\u001b[0m \u001b[0;36m2\u001b[0m\u001b[0;34m)\u001b[0m\u001b[0;34m;\u001b[0m\u001b[0;34m\u001b[0m\u001b[0;34m\u001b[0m\u001b[0m\n",
      "\u001b[0;31mNameError\u001b[0m: name 'mplot_function' is not defined"
     ]
    },
    {
     "data": {
      "image/png": "[encoded data removed]",
      "text/plain": [
       "<Figure size 1152x468 with 1 Axes>"
      ]
     },
     "metadata": {
      "needs_background": "light"
     },
     "output_type": "display_data"
    }
   ],
   "source": [
    "from dolfin import *; \n",
    "from mshr import *; \n",
    "from IPython.display import display, clear_output; \n",
    "import time\n",
    "import logging;\n",
    "import matplotlib.pyplot as plt\n",
    "logging.getLogger('FFC').setLevel(logging.WARNING)\n",
    "\n",
    "\n",
    "# Compact plot utility function\n",
    "def plot_compact(u, t, stepcounter): \n",
    "    if stepcounter % 5 == 0:\n",
    "        uEuclidnorm = project(u, V); ax.cla(); fig = plt.gcf(); fig.set_size_inches(16, 6.5)\n",
    "        plt.subplot(1, 2, 1); mplot_function(uEuclidnorm); plt.title(\"Heat\") # Plot norm of velocity\n",
    "        if t == 0.: plt.colorbar(); plt.axis(G)\n",
    "        plt.subplot(1, 2, 2);\n",
    "        if t == 0.: plt.triplot(mesh2triang(mesh)); plt.title(\"Mesh\") # Plot mesh\n",
    "        plt.suptitle(\"Heat - t: %f\" % (t)); plt.tight_layout(); clear_output(wait=True);    \n",
    "\n",
    "\n",
    "\n",
    "######## Important code begins here ########\n",
    "\n",
    "# Define domain and mesh\n",
    "XMIN, XMAX = -2., 2.; \n",
    "YMIN, YMAX = -2., 2.; \n",
    "G = [XMIN, XMAX, YMIN, YMAX];\n",
    "mresolution = 20;\n",
    "mesh = generate_mesh(Rectangle(Point(G[0], G[2]), Point(G[1], G[3])), mresolution)\n",
    "\n",
    "# Define finite element function space\n",
    "degree = 1;\n",
    "V = FunctionSpace(mesh, \"CG\", degree);\n",
    "\n",
    "# Finite element functions\n",
    "v = TestFunction(V); \n",
    "u = Function(V);\n",
    "\n",
    "# Define boundary conditions\n",
    "def boundary(x, on_boundary):\n",
    "    return on_boundary\n",
    "\n",
    "# Time parameters\n",
    "theta = 1.0 # Implicit Euler\n",
    "k = 0.5; # Time step\n",
    "t, T = 0., 20.; # Start and end time\n",
    "\n",
    "# Exact solution\n",
    "k_coeff = 1\n",
    "ue = Expression(\"exp(-(x[0]*x[0]+x[1]*x[1])/(4*a*t))/(4*pi*a*t)\", a=k_coeff, t=1e-7, domain=mesh, degree=2) \n",
    "u0 = ue;\n",
    "\n",
    "bc = DirichletBC(V, ue, boundary)\n",
    "\n",
    "# Inititalize time stepping\n",
    "pl, ax = plt.subplots(); \n",
    "stepcounter = 0; \n",
    "timer0 = time.clock()\n",
    "\n",
    "# Time-stepping loop\n",
    "while t < T: \n",
    "    # Time scheme\n",
    "    um = theta*u + (1.0-theta)*u0 \n",
    "    \n",
    "    # Weak form of the heat equation in residual form\n",
    "    r = (u - u0)/k*v*dx + k_coeff*inner(grad(um), grad(v))*dx \n",
    "    \n",
    "    # Solve the Heat equation (one timestep)\n",
    "    solve(r==0, u, bc)  \n",
    "    \n",
    "    # Plot all quantities (see implementation above)\n",
    "    plot_compact(u, t, stepcounter)\n",
    "    \n",
    "    # Shift to next timestep\n",
    "    t += k; u0 = project(u, V); \n",
    "    ue.t = t;\n",
    "    stepcounter += 1\n",
    "    \n",
    "    #plt.figure()\n",
    "    #plot(u)\n",
    "    #plt.show()\n",
    "print(\"elapsed CPU time: \", (time.clock() - timer0))   \n"
   ]
  },
  {
   "cell_type": "code",
   "execution_count": null,
   "metadata": {},
   "outputs": [],
   "source": []
  }
 ],
 "metadata": {
  "kernelspec": {
   "display_name": "Python 3",
   "language": "python",
   "name": "python3"
  },
  "language_info": {
   "codemirror_mode": {
    "name": "ipython",
    "version": 3
   },
   "file_extension": ".py",
   "mimetype": "text/x-python",
   "name": "python",
   "nbconvert_exporter": "python",
   "pygments_lexer": "ipython3",
   "version": "3.6.8"
  }
 },
 "nbformat": 4,
 "nbformat_minor": 1
}
