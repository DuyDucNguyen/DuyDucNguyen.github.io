{
 "cells": [
  {
   "cell_type": "markdown",
   "metadata": {},
   "source": [
    "## FEM Refs\n",
    "\n",
    "Gilbert Strang's MIT OpenCourseWare material on Linear algebra and Calculus <br>\n",
    "&nbsp; &nbsp; &nbsp; &nbsp;  <a href=\"https://ocw.mit.edu/ans7870/resources/Strang/Edited/Calculus/Calculus.pdf\"><font color=\"blue\">Textbook</font></a> (in sections) <br>\n",
    "        Video Lectures\n",
    "The Body and Soul computer sessions\n",
    "    Khan Academy\n",
    "\n",
    "Available for purchase\n",
    "\n",
    "    G. Strang, Introduction to Linear Algebra, Wellesley College Press, 2016\n",
    "    K. Eriksson, D.Estep, C. Johnson, Applied Mathematics: Body and Soul, Springer, 2004\n",
    "\n",
    "Introductory level\n",
    "Available for purchase\n",
    "\n",
    "    K. Eriksson, D. Estep, P. Hansbo and C. Johnson. Computational Differential Equations, Cambridge University Press, 1996.\n",
    "\n",
    "    M. G. Larson and F. Bengzon. The Finite Element Method: Theory, Implementation, and Applications, Texts in Computational Science and Engineering, Springer, 2013.\n",
    "\n",
    "    M. Gockenbach. Understanding and Implementing the Finite Element Method, SIAM, 2006.\n",
    "\n",
    "    J. Donea and A. Huerta. Finite Element Methods for Flow Problems, Wiley Press, 2003.\n",
    "\n",
    "    T. J. R. Hughes. The Finite Element Method: Linear Static and Dynamic Finite Element Analysis, Prentice-Hall, 1987.\n",
    "\n",
    "    W. B. Bickford. A First Course in the Finite Element Method, 2nd edition, Irwin, 1994.\n",
    "\n",
    "Advanced/PhD level\n",
    "\n",
    "Freely available online\n",
    "\n",
    "    Editors: A. Logg, K-A. Mardal, G. Wells, Automated solution of differential equations by the finite element method, 2012\n",
    "\n",
    "Available for purchase\n",
    "\n",
    "    S. C. Brenner and L. R. Scott. The Mathematical Theory of Finite Element Methods, third edition, Texts in Applied Mathematics, Springer, 2008.\n",
    "\n",
    "    D. Braess. Finite Elements, third edition, Cambridge University Press, 2007.\n",
    "\n",
    "    A. Ern and J.-L. Guermond. Theory and Practice of Finite Elements, Springer, 2004.\n",
    "\n",
    "    A. Quarteroni and A. Valli. Numerical Approximation of Partial Differential Equations, Springer Series in Computational Mathematics, Springer, 1994.\n",
    "\n",
    "    P. G. Ciarlet. The Finite Element Method for Elliptic Problems, Classics in Applied Mathematics, SIAM, 2002, Reprint of the 1978 original [North-Holland, Amsterdam; MR0520174 (58 \\#25001)].\n"
   ]
  },
  {
   "cell_type": "code",
   "execution_count": null,
   "metadata": {},
   "outputs": [],
   "source": []
  },
  {
   "cell_type": "code",
   "execution_count": null,
   "metadata": {},
   "outputs": [],
   "source": []
  }
 ],
 "metadata": {
  "kernelspec": {
   "display_name": "Python 3",
   "language": "python",
   "name": "python3"
  },
  "language_info": {
   "codemirror_mode": {
    "name": "ipython",
    "version": 3
   },
   "file_extension": ".py",
   "mimetype": "text/x-python",
   "name": "python",
   "nbconvert_exporter": "python",
   "pygments_lexer": "ipython3",
   "version": "3.6.8"
  }
 },
 "nbformat": 4,
 "nbformat_minor": 1
}
