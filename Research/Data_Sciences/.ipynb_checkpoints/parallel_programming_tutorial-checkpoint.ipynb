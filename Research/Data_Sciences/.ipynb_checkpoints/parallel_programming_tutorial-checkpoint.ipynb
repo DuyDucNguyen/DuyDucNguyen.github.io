{
 "cells": [
  {
   "cell_type": "markdown",
   "metadata": {},
   "source": [
    "# Parallel programming"
   ]
  },
  {
   "cell_type": "code",
   "execution_count": 3,
   "metadata": {},
   "outputs": [
    {
     "name": "stdout",
     "output_type": "stream",
     "text": [
      "am starting process 1\n",
      "am starting process 2\n",
      "am starting process 3\n",
      "am starting process 6\n",
      "am starting process 0\n",
      "am starting process 7\n",
      "am starting process 4\n",
      "am starting process 5\n",
      "am starting process 8\n",
      "am starting process 9\n",
      "am done waiting!\n",
      "am done waiting!\n",
      "am done waiting!\n",
      "am done waiting!\n",
      "am done waiting!\n",
      "am done waiting!\n",
      "am done waiting!\n",
      "am done waiting!\n",
      "am done waiting!\n",
      "am done waiting!\n"
     ]
    }
   ],
   "source": [
    "import multiprocessing\n",
    "import time\n",
    "\n",
    "def worker(k):\n",
    "    'worker function'\n",
    "    print('am starting process %d' % (k))\n",
    "    time.sleep(10) # wait ten seconds\n",
    "    print('am done waiting!')\n",
    "    return\n",
    "\n",
    "if __name__ == '__main__':\n",
    "    for i in range(10):\n",
    "        p = multiprocessing.Process(target=worker, args=(i,))\n",
    "        p.start()\n"
   ]
  }
 ],
 "metadata": {
  "kernelspec": {
   "display_name": "Python 3",
   "language": "python",
   "name": "python3"
  },
  "language_info": {
   "codemirror_mode": {
    "name": "ipython",
    "version": 3
   },
   "file_extension": ".py",
   "mimetype": "text/x-python",
   "name": "python",
   "nbconvert_exporter": "python",
   "pygments_lexer": "ipython3",
   "version": "3.6.8"
  }
 },
 "nbformat": 4,
 "nbformat_minor": 2
}
