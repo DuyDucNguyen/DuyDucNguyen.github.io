{
 "cells": [
  {
   "cell_type": "markdown",
   "metadata": {},
   "source": [
    "# numpy tutorial"
   ]
  },
  {
   "cell_type": "code",
   "execution_count": 8,
   "metadata": {},
   "outputs": [
    {
     "data": {
      "text/plain": [
       "array([[ 1.,  0.,  0.],\n",
       "       [ 0.,  1.,  0.]])"
      ]
     },
     "execution_count": 8,
     "metadata": {},
     "output_type": "execute_result"
    }
   ],
   "source": [
    "import numpy as np \n",
    "from numpy.random import randn \n",
    "\n",
    "# list\n",
    "my_list = [1, 2, 3, 4]\n",
    "\n",
    "# convert list into array\n",
    "arr = np.array(my_list)\n",
    "\n",
    "# 1D array contaning increasing elements from 1 to 10 with step size 0.5\n",
    "np.arange(1,10,0.5)\n",
    "\n",
    "# 1D array from 0 to 1 with 100 elements\n",
    "np.linspace(0,1,100)\n",
    "\n",
    "# zeros array\n",
    "np.zeros((2,2))\n",
    "\n",
    "# ones array\n",
    "np.ones((2,3))\n",
    "\n",
    "# identity matrix\n",
    "np.eye(2,3)\n",
    "\n",
    "# random number with uniform distribution\n",
    "np.random.rand(2,5)\n",
    "\n",
    "# random number with standard distribution around 0\n",
    "np.random.randn(2,3)\n",
    "\n",
    "# 10 random integers from 1 to 100\n",
    "np.random.randint(1,100,10)\n",
    "\n"
   ]
  },
  {
   "cell_type": "code",
   "execution_count": 19,
   "metadata": {},
   "outputs": [
    {
     "data": {
      "text/plain": [
       "array([1, 1, 1, 1, 1, 1, 1, 1, 1, 1, 1, 1, 1, 1, 1, 1, 1, 1, 1, 1, 1, 1, 1,\n",
       "       1, 1, 1, 1, 1, 1, 1, 1, 1, 1, 1, 1, 1, 1, 1, 1, 1, 1, 1, 1, 1, 1, 1,\n",
       "       1, 1, 1, 1, 1, 1, 1, 1, 1, 1, 1, 1, 1, 1, 1, 1, 1, 1, 1, 1, 1, 1, 1,\n",
       "       1, 1, 1, 1, 1, 1, 1, 1, 1, 1, 1, 1, 1, 1, 1, 1, 1, 1, 1, 1, 1, 1, 1,\n",
       "       1, 1, 1, 1, 1, 1, 1, 1])"
      ]
     },
     "execution_count": 19,
     "metadata": {},
     "output_type": "execute_result"
    }
   ],
   "source": [
    "# reshape a matrix\n",
    "a = np.arange(0,100,1)\n",
    "b = a.reshape(10,10)\n",
    "\n",
    "# print array size\n",
    "b.shape\n",
    "\n",
    "# min, max\n",
    "a.min(); a.max()\n",
    "\n",
    "# index of min, max \n",
    "a.argmin(); a.argmax()\n",
    "\n",
    "# completely change the array\n",
    "a[:] = 1\n"
   ]
  },
  {
   "cell_type": "code",
   "execution_count": 23,
   "metadata": {
    "scrolled": false
   },
   "outputs": [
    {
     "data": {
      "text/plain": [
       "array([  1.00000000e+00,   2.71828183e+00,   7.38905610e+00,\n",
       "         2.00855369e+01,   5.45981500e+01,   1.48413159e+02,\n",
       "         4.03428793e+02,   1.09663316e+03,   2.98095799e+03,\n",
       "         8.10308393e+03,   2.20264658e+04,   5.98741417e+04,\n",
       "         1.62754791e+05,   4.42413392e+05,   1.20260428e+06,\n",
       "         3.26901737e+06,   8.88611052e+06,   2.41549528e+07,\n",
       "         6.56599691e+07,   1.78482301e+08,   4.85165195e+08,\n",
       "         1.31881573e+09,   3.58491285e+09,   9.74480345e+09,\n",
       "         2.64891221e+10,   7.20048993e+10,   1.95729609e+11,\n",
       "         5.32048241e+11,   1.44625706e+12,   3.93133430e+12,\n",
       "         1.06864746e+13,   2.90488497e+13,   7.89629602e+13,\n",
       "         2.14643580e+14,   5.83461743e+14,   1.58601345e+15,\n",
       "         4.31123155e+15,   1.17191424e+16,   3.18559318e+16,\n",
       "         8.65934004e+16,   2.35385267e+17,   6.39843494e+17,\n",
       "         1.73927494e+18,   4.72783947e+18,   1.28516001e+19,\n",
       "         3.49342711e+19,   9.49611942e+19,   2.58131289e+20,\n",
       "         7.01673591e+20,   1.90734657e+21,   5.18470553e+21,\n",
       "         1.40934908e+22,   3.83100800e+22,   1.04137594e+23,\n",
       "         2.83075330e+23,   7.69478527e+23,   2.09165950e+24,\n",
       "         5.68572000e+24,   1.54553894e+25,   4.20121040e+25,\n",
       "         1.14200739e+26,   3.10429794e+26,   8.43835667e+26,\n",
       "         2.29378316e+27,   6.23514908e+27,   1.69488924e+28,\n",
       "         4.60718663e+28,   1.25236317e+29,   3.40427605e+29,\n",
       "         9.25378173e+29,   2.51543867e+30,   6.83767123e+30,\n",
       "         1.85867175e+31,   5.05239363e+31,   1.37338298e+32,\n",
       "         3.73324200e+32,   1.01480039e+33,   2.75851345e+33,\n",
       "         7.49841700e+33,   2.03828107e+34,   5.54062238e+34,\n",
       "         1.50609731e+35,   4.09399696e+35,   1.11286375e+36,\n",
       "         3.02507732e+36,   8.22301271e+36,   2.23524660e+37,\n",
       "         6.07603023e+37,   1.65163625e+38,   4.48961282e+38,\n",
       "         1.22040329e+39,   3.31740010e+39,   9.01762841e+39,\n",
       "         2.45124554e+40,   6.66317622e+40,   1.81123908e+41,\n",
       "         4.92345829e+41,   1.33833472e+42,   3.63797095e+42,\n",
       "         9.88903032e+42])"
      ]
     },
     "execution_count": 23,
     "metadata": {},
     "output_type": "execute_result"
    }
   ],
   "source": [
    "a = np.arange(0,100,1)\n",
    "\n",
    "# powered array (a[i]^x)\n",
    "a**2\n",
    "np.sqrt(a)\n",
    "np.exp(a)\n"
   ]
  }
 ],
 "metadata": {
  "kernelspec": {
   "display_name": "Python 3",
   "language": "python",
   "name": "python3"
  },
  "language_info": {
   "codemirror_mode": {
    "name": "ipython",
    "version": 3
   },
   "file_extension": ".py",
   "mimetype": "text/x-python",
   "name": "python",
   "nbconvert_exporter": "python",
   "pygments_lexer": "ipython3",
   "version": "3.6.8"
  }
 },
 "nbformat": 4,
 "nbformat_minor": 2
}
